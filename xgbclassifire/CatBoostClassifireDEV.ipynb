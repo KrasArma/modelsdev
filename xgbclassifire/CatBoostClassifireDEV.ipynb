{
 "cells": [
  {
   "cell_type": "code",
   "execution_count": 5,
   "metadata": {},
   "outputs": [],
   "source": [
    "import pandas as pd\n",
    "from xgboost import XGBClassifier\n",
    "from sklearn.model_selection import train_test_split\n",
    "from sklearn.preprocessing import LabelEncoder\n",
    "from hyperopt import fmin, tpe, hp, Trials, STATUS_OK\n",
    "import joblib"
   ]
  },
  {
   "cell_type": "code",
   "execution_count": 8,
   "metadata": {},
   "outputs": [
    {
     "name": "stderr",
     "output_type": "stream",
     "text": [
      "c:\\Users\\xiaomi\\Desktop\\model2\\venv\\Lib\\site-packages\\xgboost\\core.py:158: UserWarning: [12:03:43] WARNING: C:\\buildkite-agent\\builds\\buildkite-windows-cpu-autoscaling-group-i-06abd128ca6c1688d-1\\xgboost\\xgboost-ci-windows\\src\\learner.cc:740: \n",
      "Parameters: { \"cat_features\", \"depth\", \"iterations\", \"loss_function\" } are not used.\n",
      "\n",
      "  warnings.warn(smsg, UserWarning)\n",
      "c:\\Users\\xiaomi\\Desktop\\model2\\venv\\Lib\\site-packages\\xgboost\\core.py:158: UserWarning: [12:03:43] WARNING: C:\\buildkite-agent\\builds\\buildkite-windows-cpu-autoscaling-group-i-06abd128ca6c1688d-1\\xgboost\\xgboost-ci-windows\\src\\c_api\\c_api.cc:1374: Saving model in the UBJSON format as default.  You can use file extension: `json`, `ubj` or `deprecated` to choose between formats.\n",
      "  warnings.warn(smsg, UserWarning)\n"
     ]
    },
    {
     "data": {
      "text/plain": [
       "array([1, 0, 0, 0, 0, 0, 1, 1, 0, 0, 0, 0, 1, 0, 0, 0, 0, 0, 1, 0, 1, 0,\n",
       "       1, 1, 1, 1, 0, 0, 0, 1, 0, 0, 0, 0, 0, 0, 0, 0, 0, 0, 0, 0, 1, 0,\n",
       "       1, 1, 1, 1, 1, 1, 1, 0, 1, 1, 1, 1, 1, 0, 0, 0, 0, 1, 0, 0, 1, 1,\n",
       "       1, 1, 0, 0, 0, 1, 1, 1, 0, 0, 1, 0, 0, 1, 0, 1, 1, 0, 0, 1, 0, 1,\n",
       "       1, 1, 0, 0, 1, 1, 0, 1, 0, 1, 1, 0, 0, 0, 0, 0, 0, 1, 1, 1, 1, 1,\n",
       "       0, 0, 0, 1, 0, 0, 1, 1, 0, 1, 0, 0, 0, 0, 1, 0, 1, 0, 1, 1, 0, 0,\n",
       "       0, 1, 0, 1, 0, 0, 0, 0, 0, 0, 0, 1, 0, 1, 0, 1, 0, 0, 1, 1, 0, 1,\n",
       "       1, 1, 0, 0, 1, 1, 1, 1, 1, 0, 1, 0, 1, 1, 0, 1, 1, 0, 1, 0, 1, 1,\n",
       "       0, 0, 1, 1, 1, 1, 1, 1, 1, 1, 1, 0, 0, 0, 1, 0, 0, 1, 0, 0, 1, 1,\n",
       "       0, 0, 0, 0, 1, 0, 0, 0, 1, 1, 0, 0, 1, 0, 0, 1, 1, 0, 0, 1, 0, 0,\n",
       "       1, 0, 0, 1, 0, 1, 1, 0, 1, 1, 1, 0, 0, 1, 1, 0, 1, 1, 1, 0, 0, 0,\n",
       "       0, 1, 1, 1, 1, 0, 0, 0, 0, 0, 0, 1, 0, 0, 1, 1, 1, 0, 1, 1, 0, 1,\n",
       "       1, 0, 1, 1, 1, 0, 0, 0, 1, 0, 1, 0, 1, 1, 0, 1, 1, 0, 0, 0, 0, 0,\n",
       "       1, 1, 1, 0, 1, 1, 1, 1, 1, 1, 1, 1, 1, 1, 0, 1, 1, 1, 0, 1, 0, 0,\n",
       "       0, 1, 0, 0, 0, 1, 0, 1, 0, 1, 0, 0, 0, 1, 0, 0, 0, 1, 0, 1, 0, 0,\n",
       "       1, 0, 0, 0, 0, 1, 0, 1, 1, 1, 1, 0, 1, 0, 1, 1, 1, 0, 0, 0, 0, 1,\n",
       "       1, 1, 1, 1, 1, 1, 0, 1, 1, 0, 1, 1, 0, 0, 0, 0, 1, 0, 0, 1, 1, 1,\n",
       "       0, 1, 1, 0, 0, 1, 1, 0, 1, 1, 1, 1, 0, 0, 0, 0, 1, 1, 0, 1, 1, 1,\n",
       "       0, 1, 1, 0, 0, 1, 1, 0, 0, 1, 0, 0, 0, 1, 1, 1, 1, 0, 0, 0, 1, 0,\n",
       "       0, 1, 0, 1, 0, 0, 1, 0, 1, 0, 1, 1, 1, 0, 0])"
      ]
     },
     "execution_count": 8,
     "metadata": {},
     "output_type": "execute_result"
    }
   ],
   "source": [
    "data = pd.read_csv('appl_score_sample.csv', delimiter=';')\n",
    "\n",
    "x = data.drop(columns=['CLIENT_ID', 'Target'])\n",
    "y = data['Target']\n",
    "\n",
    "x_train, x_test, y_train, y_test = train_test_split(x, y, test_size=0.2, random_state=42)\n",
    "\n",
    "cat_features = ['SEX', 'CHILD_FLAG', 'REALTY_FLAG', 'ACCOUNTS_FLAG', 'E_MAIL_FLAG', 'DCI', 'FOREIGN_PASSPORT_FLAG', 'EDUCATION']\n",
    "\n",
    "\n",
    "model = XGBClassifier(\n",
    "        iterations=100, \n",
    "        depth=6, \n",
    "        learning_rate=0.1, \n",
    "        loss_function='Logloss', \n",
    "        cat_features=cat_features)\n",
    "    \n",
    "model.fit(x_train, y_train)\n",
    "\n",
    "model.save_model('catboost_model.cbm')\n",
    "model.predict(x_test)"
   ]
  },
  {
   "cell_type": "code",
   "execution_count": 14,
   "metadata": {},
   "outputs": [
    {
     "name": "stdout",
     "output_type": "stream",
     "text": [
      "  1%|          | 1/100 [00:00<00:14,  6.69trial/s, best loss: -0.605080831408776]"
     ]
    },
    {
     "name": "stderr",
     "output_type": "stream",
     "text": [
      "c:\\Users\\xiaomi\\Desktop\\model2\\venv\\Lib\\site-packages\\xgboost\\core.py:158: UserWarning: [12:11:17] WARNING: C:\\buildkite-agent\\builds\\buildkite-windows-cpu-autoscaling-group-i-06abd128ca6c1688d-1\\xgboost\\xgboost-ci-windows\\src\\learner.cc:740: \n",
      "Parameters: { \"border_count\", \"cat_features\", \"depth\", \"iterations\", \"l2_leaf_reg\", \"verbose\" } are not used.\n",
      "\n",
      "  warnings.warn(smsg, UserWarning)\n",
      "\n",
      "c:\\Users\\xiaomi\\Desktop\\model2\\venv\\Lib\\site-packages\\xgboost\\core.py:158: UserWarning: [12:11:17] WARNING: C:\\buildkite-agent\\builds\\buildkite-windows-cpu-autoscaling-group-i-06abd128ca6c1688d-1\\xgboost\\xgboost-ci-windows\\src\\learner.cc:740: \n",
      "Parameters: { \"border_count\", \"cat_features\", \"depth\", \"iterations\", \"l2_leaf_reg\", \"verbose\" } are not used.\n",
      "\n",
      "  warnings.warn(smsg, UserWarning)\n",
      "\n"
     ]
    },
    {
     "name": "stdout",
     "output_type": "stream",
     "text": [
      "  4%|▍         | 4/100 [00:00<00:12,  7.57trial/s, best loss: -0.628175519630485]"
     ]
    },
    {
     "name": "stderr",
     "output_type": "stream",
     "text": [
      "c:\\Users\\xiaomi\\Desktop\\model2\\venv\\Lib\\site-packages\\xgboost\\core.py:158: UserWarning: [12:11:17] WARNING: C:\\buildkite-agent\\builds\\buildkite-windows-cpu-autoscaling-group-i-06abd128ca6c1688d-1\\xgboost\\xgboost-ci-windows\\src\\learner.cc:740: \n",
      "Parameters: { \"border_count\", \"cat_features\", \"depth\", \"iterations\", \"l2_leaf_reg\", \"verbose\" } are not used.\n",
      "\n",
      "  warnings.warn(smsg, UserWarning)\n",
      "\n",
      "c:\\Users\\xiaomi\\Desktop\\model2\\venv\\Lib\\site-packages\\xgboost\\core.py:158: UserWarning: [12:11:17] WARNING: C:\\buildkite-agent\\builds\\buildkite-windows-cpu-autoscaling-group-i-06abd128ca6c1688d-1\\xgboost\\xgboost-ci-windows\\src\\learner.cc:740: \n",
      "Parameters: { \"border_count\", \"cat_features\", \"depth\", \"iterations\", \"l2_leaf_reg\", \"verbose\" } are not used.\n",
      "\n",
      "  warnings.warn(smsg, UserWarning)\n",
      "\n"
     ]
    },
    {
     "name": "stdout",
     "output_type": "stream",
     "text": [
      "  5%|▌         | 5/100 [00:00<00:22,  4.24trial/s, best loss: -0.628175519630485]"
     ]
    },
    {
     "name": "stderr",
     "output_type": "stream",
     "text": [
      "c:\\Users\\xiaomi\\Desktop\\model2\\venv\\Lib\\site-packages\\xgboost\\core.py:158: UserWarning: [12:11:17] WARNING: C:\\buildkite-agent\\builds\\buildkite-windows-cpu-autoscaling-group-i-06abd128ca6c1688d-1\\xgboost\\xgboost-ci-windows\\src\\learner.cc:740: \n",
      "Parameters: { \"border_count\", \"cat_features\", \"depth\", \"iterations\", \"l2_leaf_reg\", \"verbose\" } are not used.\n",
      "\n",
      "  warnings.warn(smsg, UserWarning)\n",
      "\n",
      "c:\\Users\\xiaomi\\Desktop\\model2\\venv\\Lib\\site-packages\\xgboost\\core.py:158: UserWarning: [12:11:18] WARNING: C:\\buildkite-agent\\builds\\buildkite-windows-cpu-autoscaling-group-i-06abd128ca6c1688d-1\\xgboost\\xgboost-ci-windows\\src\\learner.cc:740: \n",
      "Parameters: { \"border_count\", \"cat_features\", \"depth\", \"iterations\", \"l2_leaf_reg\", \"verbose\" } are not used.\n",
      "\n",
      "  warnings.warn(smsg, UserWarning)\n",
      "\n"
     ]
    },
    {
     "name": "stdout",
     "output_type": "stream",
     "text": [
      "  8%|▊         | 8/100 [00:01<00:13,  6.85trial/s, best loss: -0.628175519630485]"
     ]
    },
    {
     "name": "stderr",
     "output_type": "stream",
     "text": [
      "c:\\Users\\xiaomi\\Desktop\\model2\\venv\\Lib\\site-packages\\xgboost\\core.py:158: UserWarning: [12:11:18] WARNING: C:\\buildkite-agent\\builds\\buildkite-windows-cpu-autoscaling-group-i-06abd128ca6c1688d-1\\xgboost\\xgboost-ci-windows\\src\\learner.cc:740: \n",
      "Parameters: { \"border_count\", \"cat_features\", \"depth\", \"iterations\", \"l2_leaf_reg\", \"verbose\" } are not used.\n",
      "\n",
      "  warnings.warn(smsg, UserWarning)\n",
      "\n",
      "c:\\Users\\xiaomi\\Desktop\\model2\\venv\\Lib\\site-packages\\xgboost\\core.py:158: UserWarning: [12:11:18] WARNING: C:\\buildkite-agent\\builds\\buildkite-windows-cpu-autoscaling-group-i-06abd128ca6c1688d-1\\xgboost\\xgboost-ci-windows\\src\\learner.cc:740: \n",
      "Parameters: { \"border_count\", \"cat_features\", \"depth\", \"iterations\", \"l2_leaf_reg\", \"verbose\" } are not used.\n",
      "\n",
      "  warnings.warn(smsg, UserWarning)\n",
      "\n"
     ]
    },
    {
     "name": "stdout",
     "output_type": "stream",
     "text": [
      " 10%|█         | 10/100 [00:01<00:11,  7.83trial/s, best loss: -0.628175519630485]"
     ]
    },
    {
     "name": "stderr",
     "output_type": "stream",
     "text": [
      "c:\\Users\\xiaomi\\Desktop\\model2\\venv\\Lib\\site-packages\\xgboost\\core.py:158: UserWarning: [12:11:18] WARNING: C:\\buildkite-agent\\builds\\buildkite-windows-cpu-autoscaling-group-i-06abd128ca6c1688d-1\\xgboost\\xgboost-ci-windows\\src\\learner.cc:740: \n",
      "Parameters: { \"border_count\", \"cat_features\", \"depth\", \"iterations\", \"l2_leaf_reg\", \"verbose\" } are not used.\n",
      "\n",
      "  warnings.warn(smsg, UserWarning)\n",
      "\n",
      "c:\\Users\\xiaomi\\Desktop\\model2\\venv\\Lib\\site-packages\\xgboost\\core.py:158: UserWarning: [12:11:18] WARNING: C:\\buildkite-agent\\builds\\buildkite-windows-cpu-autoscaling-group-i-06abd128ca6c1688d-1\\xgboost\\xgboost-ci-windows\\src\\learner.cc:740: \n",
      "Parameters: { \"border_count\", \"cat_features\", \"depth\", \"iterations\", \"l2_leaf_reg\", \"verbose\" } are not used.\n",
      "\n",
      "  warnings.warn(smsg, UserWarning)\n",
      "\n"
     ]
    },
    {
     "name": "stdout",
     "output_type": "stream",
     "text": [
      " 12%|█▏        | 12/100 [00:01<00:09,  9.46trial/s, best loss: -0.628175519630485]"
     ]
    },
    {
     "name": "stderr",
     "output_type": "stream",
     "text": [
      "c:\\Users\\xiaomi\\Desktop\\model2\\venv\\Lib\\site-packages\\xgboost\\core.py:158: UserWarning: [12:11:18] WARNING: C:\\buildkite-agent\\builds\\buildkite-windows-cpu-autoscaling-group-i-06abd128ca6c1688d-1\\xgboost\\xgboost-ci-windows\\src\\learner.cc:740: \n",
      "Parameters: { \"border_count\", \"cat_features\", \"depth\", \"iterations\", \"l2_leaf_reg\", \"verbose\" } are not used.\n",
      "\n",
      "  warnings.warn(smsg, UserWarning)\n",
      "\n",
      "c:\\Users\\xiaomi\\Desktop\\model2\\venv\\Lib\\site-packages\\xgboost\\core.py:158: UserWarning: [12:11:18] WARNING: C:\\buildkite-agent\\builds\\buildkite-windows-cpu-autoscaling-group-i-06abd128ca6c1688d-1\\xgboost\\xgboost-ci-windows\\src\\learner.cc:740: \n",
      "Parameters: { \"border_count\", \"cat_features\", \"depth\", \"iterations\", \"l2_leaf_reg\", \"verbose\" } are not used.\n",
      "\n",
      "  warnings.warn(smsg, UserWarning)\n",
      "\n",
      "c:\\Users\\xiaomi\\Desktop\\model2\\venv\\Lib\\site-packages\\xgboost\\core.py:158: UserWarning: [12:11:18] WARNING: C:\\buildkite-agent\\builds\\buildkite-windows-cpu-autoscaling-group-i-06abd128ca6c1688d-1\\xgboost\\xgboost-ci-windows\\src\\learner.cc:740: \n",
      "Parameters: { \"border_count\", \"cat_features\", \"depth\", \"iterations\", \"l2_leaf_reg\", \"verbose\" } are not used.\n",
      "\n",
      "  warnings.warn(smsg, UserWarning)\n",
      "\n"
     ]
    },
    {
     "name": "stdout",
     "output_type": "stream",
     "text": [
      " 14%|█▍        | 14/100 [00:02<00:13,  6.46trial/s, best loss: -0.6327944572748267]"
     ]
    },
    {
     "name": "stderr",
     "output_type": "stream",
     "text": [
      "c:\\Users\\xiaomi\\Desktop\\model2\\venv\\Lib\\site-packages\\xgboost\\core.py:158: UserWarning: [12:11:19] WARNING: C:\\buildkite-agent\\builds\\buildkite-windows-cpu-autoscaling-group-i-06abd128ca6c1688d-1\\xgboost\\xgboost-ci-windows\\src\\learner.cc:740: \n",
      "Parameters: { \"border_count\", \"cat_features\", \"depth\", \"iterations\", \"l2_leaf_reg\", \"verbose\" } are not used.\n",
      "\n",
      "  warnings.warn(smsg, UserWarning)\n",
      "\n",
      "c:\\Users\\xiaomi\\Desktop\\model2\\venv\\Lib\\site-packages\\xgboost\\core.py:158: UserWarning: [12:11:19] WARNING: C:\\buildkite-agent\\builds\\buildkite-windows-cpu-autoscaling-group-i-06abd128ca6c1688d-1\\xgboost\\xgboost-ci-windows\\src\\learner.cc:740: \n",
      "Parameters: { \"border_count\", \"cat_features\", \"depth\", \"iterations\", \"l2_leaf_reg\", \"verbose\" } are not used.\n",
      "\n",
      "  warnings.warn(smsg, UserWarning)\n",
      "\n"
     ]
    },
    {
     "name": "stdout",
     "output_type": "stream",
     "text": [
      " 17%|█▋        | 17/100 [00:02<00:10,  8.23trial/s, best loss: -0.6327944572748267]"
     ]
    },
    {
     "name": "stderr",
     "output_type": "stream",
     "text": [
      "c:\\Users\\xiaomi\\Desktop\\model2\\venv\\Lib\\site-packages\\xgboost\\core.py:158: UserWarning: [12:11:19] WARNING: C:\\buildkite-agent\\builds\\buildkite-windows-cpu-autoscaling-group-i-06abd128ca6c1688d-1\\xgboost\\xgboost-ci-windows\\src\\learner.cc:740: \n",
      "Parameters: { \"border_count\", \"cat_features\", \"depth\", \"iterations\", \"l2_leaf_reg\", \"verbose\" } are not used.\n",
      "\n",
      "  warnings.warn(smsg, UserWarning)\n",
      "\n",
      "c:\\Users\\xiaomi\\Desktop\\model2\\venv\\Lib\\site-packages\\xgboost\\core.py:158: UserWarning: [12:11:19] WARNING: C:\\buildkite-agent\\builds\\buildkite-windows-cpu-autoscaling-group-i-06abd128ca6c1688d-1\\xgboost\\xgboost-ci-windows\\src\\learner.cc:740: \n",
      "Parameters: { \"border_count\", \"cat_features\", \"depth\", \"iterations\", \"l2_leaf_reg\", \"verbose\" } are not used.\n",
      "\n",
      "  warnings.warn(smsg, UserWarning)\n",
      "\n",
      "c:\\Users\\xiaomi\\Desktop\\model2\\venv\\Lib\\site-packages\\xgboost\\core.py:158: UserWarning: [12:11:19] WARNING: C:\\buildkite-agent\\builds\\buildkite-windows-cpu-autoscaling-group-i-06abd128ca6c1688d-1\\xgboost\\xgboost-ci-windows\\src\\learner.cc:740: \n",
      "Parameters: { \"border_count\", \"cat_features\", \"depth\", \"iterations\", \"l2_leaf_reg\", \"verbose\" } are not used.\n",
      "\n",
      "  warnings.warn(smsg, UserWarning)\n",
      "\n"
     ]
    },
    {
     "name": "stdout",
     "output_type": "stream",
     "text": [
      " 19%|█▉        | 19/100 [00:02<00:08,  9.42trial/s, best loss: -0.6327944572748267]"
     ]
    },
    {
     "name": "stderr",
     "output_type": "stream",
     "text": [
      "c:\\Users\\xiaomi\\Desktop\\model2\\venv\\Lib\\site-packages\\xgboost\\core.py:158: UserWarning: [12:11:19] WARNING: C:\\buildkite-agent\\builds\\buildkite-windows-cpu-autoscaling-group-i-06abd128ca6c1688d-1\\xgboost\\xgboost-ci-windows\\src\\learner.cc:740: \n",
      "Parameters: { \"border_count\", \"cat_features\", \"depth\", \"iterations\", \"l2_leaf_reg\", \"verbose\" } are not used.\n",
      "\n",
      "  warnings.warn(smsg, UserWarning)\n",
      "\n",
      "c:\\Users\\xiaomi\\Desktop\\model2\\venv\\Lib\\site-packages\\xgboost\\core.py:158: UserWarning: [12:11:19] WARNING: C:\\buildkite-agent\\builds\\buildkite-windows-cpu-autoscaling-group-i-06abd128ca6c1688d-1\\xgboost\\xgboost-ci-windows\\src\\learner.cc:740: \n",
      "Parameters: { \"border_count\", \"cat_features\", \"depth\", \"iterations\", \"l2_leaf_reg\", \"verbose\" } are not used.\n",
      "\n",
      "  warnings.warn(smsg, UserWarning)\n",
      "\n",
      "c:\\Users\\xiaomi\\Desktop\\model2\\venv\\Lib\\site-packages\\xgboost\\core.py:158: UserWarning: [12:11:19] WARNING: C:\\buildkite-agent\\builds\\buildkite-windows-cpu-autoscaling-group-i-06abd128ca6c1688d-1\\xgboost\\xgboost-ci-windows\\src\\learner.cc:740: \n",
      "Parameters: { \"border_count\", \"cat_features\", \"depth\", \"iterations\", \"l2_leaf_reg\", \"verbose\" } are not used.\n",
      "\n",
      "  warnings.warn(smsg, UserWarning)\n",
      "\n"
     ]
    },
    {
     "name": "stdout",
     "output_type": "stream",
     "text": [
      " 23%|██▎       | 23/100 [00:03<00:10,  7.69trial/s, best loss: -0.6466512702078522]"
     ]
    },
    {
     "name": "stderr",
     "output_type": "stream",
     "text": [
      "c:\\Users\\xiaomi\\Desktop\\model2\\venv\\Lib\\site-packages\\xgboost\\core.py:158: UserWarning: [12:11:19] WARNING: C:\\buildkite-agent\\builds\\buildkite-windows-cpu-autoscaling-group-i-06abd128ca6c1688d-1\\xgboost\\xgboost-ci-windows\\src\\learner.cc:740: \n",
      "Parameters: { \"border_count\", \"cat_features\", \"depth\", \"iterations\", \"l2_leaf_reg\", \"verbose\" } are not used.\n",
      "\n",
      "  warnings.warn(smsg, UserWarning)\n",
      "\n",
      "c:\\Users\\xiaomi\\Desktop\\model2\\venv\\Lib\\site-packages\\xgboost\\core.py:158: UserWarning: [12:11:20] WARNING: C:\\buildkite-agent\\builds\\buildkite-windows-cpu-autoscaling-group-i-06abd128ca6c1688d-1\\xgboost\\xgboost-ci-windows\\src\\learner.cc:740: \n",
      "Parameters: { \"border_count\", \"cat_features\", \"depth\", \"iterations\", \"l2_leaf_reg\", \"verbose\" } are not used.\n",
      "\n",
      "  warnings.warn(smsg, UserWarning)\n",
      "\n"
     ]
    },
    {
     "name": "stdout",
     "output_type": "stream",
     "text": [
      " 25%|██▌       | 25/100 [00:03<00:09,  8.12trial/s, best loss: -0.6466512702078522]"
     ]
    },
    {
     "name": "stderr",
     "output_type": "stream",
     "text": [
      "c:\\Users\\xiaomi\\Desktop\\model2\\venv\\Lib\\site-packages\\xgboost\\core.py:158: UserWarning: [12:11:20] WARNING: C:\\buildkite-agent\\builds\\buildkite-windows-cpu-autoscaling-group-i-06abd128ca6c1688d-1\\xgboost\\xgboost-ci-windows\\src\\learner.cc:740: \n",
      "Parameters: { \"border_count\", \"cat_features\", \"depth\", \"iterations\", \"l2_leaf_reg\", \"verbose\" } are not used.\n",
      "\n",
      "  warnings.warn(smsg, UserWarning)\n",
      "\n",
      "c:\\Users\\xiaomi\\Desktop\\model2\\venv\\Lib\\site-packages\\xgboost\\core.py:158: UserWarning: [12:11:20] WARNING: C:\\buildkite-agent\\builds\\buildkite-windows-cpu-autoscaling-group-i-06abd128ca6c1688d-1\\xgboost\\xgboost-ci-windows\\src\\learner.cc:740: \n",
      "Parameters: { \"border_count\", \"cat_features\", \"depth\", \"iterations\", \"l2_leaf_reg\", \"verbose\" } are not used.\n",
      "\n",
      "  warnings.warn(smsg, UserWarning)\n",
      "\n"
     ]
    },
    {
     "name": "stdout",
     "output_type": "stream",
     "text": [
      " 27%|██▋       | 27/100 [00:03<00:08,  8.71trial/s, best loss: -0.6466512702078522]"
     ]
    },
    {
     "name": "stderr",
     "output_type": "stream",
     "text": [
      "c:\\Users\\xiaomi\\Desktop\\model2\\venv\\Lib\\site-packages\\xgboost\\core.py:158: UserWarning: [12:11:20] WARNING: C:\\buildkite-agent\\builds\\buildkite-windows-cpu-autoscaling-group-i-06abd128ca6c1688d-1\\xgboost\\xgboost-ci-windows\\src\\learner.cc:740: \n",
      "Parameters: { \"border_count\", \"cat_features\", \"depth\", \"iterations\", \"l2_leaf_reg\", \"verbose\" } are not used.\n",
      "\n",
      "  warnings.warn(smsg, UserWarning)\n",
      "\n",
      "c:\\Users\\xiaomi\\Desktop\\model2\\venv\\Lib\\site-packages\\xgboost\\core.py:158: UserWarning: [12:11:20] WARNING: C:\\buildkite-agent\\builds\\buildkite-windows-cpu-autoscaling-group-i-06abd128ca6c1688d-1\\xgboost\\xgboost-ci-windows\\src\\learner.cc:740: \n",
      "Parameters: { \"border_count\", \"cat_features\", \"depth\", \"iterations\", \"l2_leaf_reg\", \"verbose\" } are not used.\n",
      "\n",
      "  warnings.warn(smsg, UserWarning)\n",
      "\n",
      "c:\\Users\\xiaomi\\Desktop\\model2\\venv\\Lib\\site-packages\\xgboost\\core.py:158: UserWarning: [12:11:20] WARNING: C:\\buildkite-agent\\builds\\buildkite-windows-cpu-autoscaling-group-i-06abd128ca6c1688d-1\\xgboost\\xgboost-ci-windows\\src\\learner.cc:740: \n",
      "Parameters: { \"border_count\", \"cat_features\", \"depth\", \"iterations\", \"l2_leaf_reg\", \"verbose\" } are not used.\n",
      "\n",
      "  warnings.warn(smsg, UserWarning)\n",
      "\n"
     ]
    },
    {
     "name": "stdout",
     "output_type": "stream",
     "text": [
      " 30%|███       | 30/100 [00:03<00:07,  9.31trial/s, best loss: -0.651270207852194] "
     ]
    },
    {
     "name": "stderr",
     "output_type": "stream",
     "text": [
      "c:\\Users\\xiaomi\\Desktop\\model2\\venv\\Lib\\site-packages\\xgboost\\core.py:158: UserWarning: [12:11:20] WARNING: C:\\buildkite-agent\\builds\\buildkite-windows-cpu-autoscaling-group-i-06abd128ca6c1688d-1\\xgboost\\xgboost-ci-windows\\src\\learner.cc:740: \n",
      "Parameters: { \"border_count\", \"cat_features\", \"depth\", \"iterations\", \"l2_leaf_reg\", \"verbose\" } are not used.\n",
      "\n",
      "  warnings.warn(smsg, UserWarning)\n",
      "\n",
      "c:\\Users\\xiaomi\\Desktop\\model2\\venv\\Lib\\site-packages\\xgboost\\core.py:158: UserWarning: [12:11:20] WARNING: C:\\buildkite-agent\\builds\\buildkite-windows-cpu-autoscaling-group-i-06abd128ca6c1688d-1\\xgboost\\xgboost-ci-windows\\src\\learner.cc:740: \n",
      "Parameters: { \"border_count\", \"cat_features\", \"depth\", \"iterations\", \"l2_leaf_reg\", \"verbose\" } are not used.\n",
      "\n",
      "  warnings.warn(smsg, UserWarning)\n",
      "\n"
     ]
    },
    {
     "name": "stdout",
     "output_type": "stream",
     "text": [
      " 31%|███       | 31/100 [00:04<00:11,  6.14trial/s, best loss: -0.651270207852194]"
     ]
    },
    {
     "name": "stderr",
     "output_type": "stream",
     "text": [
      "c:\\Users\\xiaomi\\Desktop\\model2\\venv\\Lib\\site-packages\\xgboost\\core.py:158: UserWarning: [12:11:21] WARNING: C:\\buildkite-agent\\builds\\buildkite-windows-cpu-autoscaling-group-i-06abd128ca6c1688d-1\\xgboost\\xgboost-ci-windows\\src\\learner.cc:740: \n",
      "Parameters: { \"border_count\", \"cat_features\", \"depth\", \"iterations\", \"l2_leaf_reg\", \"verbose\" } are not used.\n",
      "\n",
      "  warnings.warn(smsg, UserWarning)\n",
      "\n",
      "c:\\Users\\xiaomi\\Desktop\\model2\\venv\\Lib\\site-packages\\xgboost\\core.py:158: UserWarning: [12:11:21] WARNING: C:\\buildkite-agent\\builds\\buildkite-windows-cpu-autoscaling-group-i-06abd128ca6c1688d-1\\xgboost\\xgboost-ci-windows\\src\\learner.cc:740: \n",
      "Parameters: { \"border_count\", \"cat_features\", \"depth\", \"iterations\", \"l2_leaf_reg\", \"verbose\" } are not used.\n",
      "\n",
      "  warnings.warn(smsg, UserWarning)\n",
      "\n"
     ]
    },
    {
     "name": "stdout",
     "output_type": "stream",
     "text": [
      " 34%|███▍      | 34/100 [00:04<00:08,  7.76trial/s, best loss: -0.651270207852194]"
     ]
    },
    {
     "name": "stderr",
     "output_type": "stream",
     "text": [
      "c:\\Users\\xiaomi\\Desktop\\model2\\venv\\Lib\\site-packages\\xgboost\\core.py:158: UserWarning: [12:11:21] WARNING: C:\\buildkite-agent\\builds\\buildkite-windows-cpu-autoscaling-group-i-06abd128ca6c1688d-1\\xgboost\\xgboost-ci-windows\\src\\learner.cc:740: \n",
      "Parameters: { \"border_count\", \"cat_features\", \"depth\", \"iterations\", \"l2_leaf_reg\", \"verbose\" } are not used.\n",
      "\n",
      "  warnings.warn(smsg, UserWarning)\n",
      "\n",
      "c:\\Users\\xiaomi\\Desktop\\model2\\venv\\Lib\\site-packages\\xgboost\\core.py:158: UserWarning: [12:11:21] WARNING: C:\\buildkite-agent\\builds\\buildkite-windows-cpu-autoscaling-group-i-06abd128ca6c1688d-1\\xgboost\\xgboost-ci-windows\\src\\learner.cc:740: \n",
      "Parameters: { \"border_count\", \"cat_features\", \"depth\", \"iterations\", \"l2_leaf_reg\", \"verbose\" } are not used.\n",
      "\n",
      "  warnings.warn(smsg, UserWarning)\n",
      "\n"
     ]
    },
    {
     "name": "stdout",
     "output_type": "stream",
     "text": [
      " 36%|███▌      | 36/100 [00:04<00:07,  8.75trial/s, best loss: -0.651270207852194]"
     ]
    },
    {
     "name": "stderr",
     "output_type": "stream",
     "text": [
      "c:\\Users\\xiaomi\\Desktop\\model2\\venv\\Lib\\site-packages\\xgboost\\core.py:158: UserWarning: [12:11:21] WARNING: C:\\buildkite-agent\\builds\\buildkite-windows-cpu-autoscaling-group-i-06abd128ca6c1688d-1\\xgboost\\xgboost-ci-windows\\src\\learner.cc:740: \n",
      "Parameters: { \"border_count\", \"cat_features\", \"depth\", \"iterations\", \"l2_leaf_reg\", \"verbose\" } are not used.\n",
      "\n",
      "  warnings.warn(smsg, UserWarning)\n",
      "\n",
      "c:\\Users\\xiaomi\\Desktop\\model2\\venv\\Lib\\site-packages\\xgboost\\core.py:158: UserWarning: [12:11:21] WARNING: C:\\buildkite-agent\\builds\\buildkite-windows-cpu-autoscaling-group-i-06abd128ca6c1688d-1\\xgboost\\xgboost-ci-windows\\src\\learner.cc:740: \n",
      "Parameters: { \"border_count\", \"cat_features\", \"depth\", \"iterations\", \"l2_leaf_reg\", \"verbose\" } are not used.\n",
      "\n",
      "  warnings.warn(smsg, UserWarning)\n",
      "\n"
     ]
    },
    {
     "name": "stdout",
     "output_type": "stream",
     "text": [
      " 38%|███▊      | 38/100 [00:04<00:07,  8.73trial/s, best loss: -0.651270207852194]"
     ]
    },
    {
     "name": "stderr",
     "output_type": "stream",
     "text": [
      "c:\\Users\\xiaomi\\Desktop\\model2\\venv\\Lib\\site-packages\\xgboost\\core.py:158: UserWarning: [12:11:21] WARNING: C:\\buildkite-agent\\builds\\buildkite-windows-cpu-autoscaling-group-i-06abd128ca6c1688d-1\\xgboost\\xgboost-ci-windows\\src\\learner.cc:740: \n",
      "Parameters: { \"border_count\", \"cat_features\", \"depth\", \"iterations\", \"l2_leaf_reg\", \"verbose\" } are not used.\n",
      "\n",
      "  warnings.warn(smsg, UserWarning)\n",
      "\n",
      "c:\\Users\\xiaomi\\Desktop\\model2\\venv\\Lib\\site-packages\\xgboost\\core.py:158: UserWarning: [12:11:21] WARNING: C:\\buildkite-agent\\builds\\buildkite-windows-cpu-autoscaling-group-i-06abd128ca6c1688d-1\\xgboost\\xgboost-ci-windows\\src\\learner.cc:740: \n",
      "Parameters: { \"border_count\", \"cat_features\", \"depth\", \"iterations\", \"l2_leaf_reg\", \"verbose\" } are not used.\n",
      "\n",
      "  warnings.warn(smsg, UserWarning)\n",
      "\n"
     ]
    },
    {
     "name": "stdout",
     "output_type": "stream",
     "text": [
      " 40%|████      | 40/100 [00:05<00:08,  6.75trial/s, best loss: -0.651270207852194]"
     ]
    },
    {
     "name": "stderr",
     "output_type": "stream",
     "text": [
      "c:\\Users\\xiaomi\\Desktop\\model2\\venv\\Lib\\site-packages\\xgboost\\core.py:158: UserWarning: [12:11:22] WARNING: C:\\buildkite-agent\\builds\\buildkite-windows-cpu-autoscaling-group-i-06abd128ca6c1688d-1\\xgboost\\xgboost-ci-windows\\src\\learner.cc:740: \n",
      "Parameters: { \"border_count\", \"cat_features\", \"depth\", \"iterations\", \"l2_leaf_reg\", \"verbose\" } are not used.\n",
      "\n",
      "  warnings.warn(smsg, UserWarning)\n",
      "\n",
      "c:\\Users\\xiaomi\\Desktop\\model2\\venv\\Lib\\site-packages\\xgboost\\core.py:158: UserWarning: [12:11:22] WARNING: C:\\buildkite-agent\\builds\\buildkite-windows-cpu-autoscaling-group-i-06abd128ca6c1688d-1\\xgboost\\xgboost-ci-windows\\src\\learner.cc:740: \n",
      "Parameters: { \"border_count\", \"cat_features\", \"depth\", \"iterations\", \"l2_leaf_reg\", \"verbose\" } are not used.\n",
      "\n",
      "  warnings.warn(smsg, UserWarning)\n",
      "\n"
     ]
    },
    {
     "name": "stdout",
     "output_type": "stream",
     "text": [
      " 41%|████      | 41/100 [00:05<00:08,  7.34trial/s, best loss: -0.651270207852194]"
     ]
    },
    {
     "name": "stderr",
     "output_type": "stream",
     "text": [
      "c:\\Users\\xiaomi\\Desktop\\model2\\venv\\Lib\\site-packages\\xgboost\\core.py:158: UserWarning: [12:11:22] WARNING: C:\\buildkite-agent\\builds\\buildkite-windows-cpu-autoscaling-group-i-06abd128ca6c1688d-1\\xgboost\\xgboost-ci-windows\\src\\learner.cc:740: \n",
      "Parameters: { \"border_count\", \"cat_features\", \"depth\", \"iterations\", \"l2_leaf_reg\", \"verbose\" } are not used.\n",
      "\n",
      "  warnings.warn(smsg, UserWarning)\n",
      "\n",
      "c:\\Users\\xiaomi\\Desktop\\model2\\venv\\Lib\\site-packages\\xgboost\\core.py:158: UserWarning: [12:11:22] WARNING: C:\\buildkite-agent\\builds\\buildkite-windows-cpu-autoscaling-group-i-06abd128ca6c1688d-1\\xgboost\\xgboost-ci-windows\\src\\learner.cc:740: \n",
      "Parameters: { \"border_count\", \"cat_features\", \"depth\", \"iterations\", \"l2_leaf_reg\", \"verbose\" } are not used.\n",
      "\n",
      "  warnings.warn(smsg, UserWarning)\n",
      "\n"
     ]
    },
    {
     "name": "stdout",
     "output_type": "stream",
     "text": [
      " 43%|████▎     | 43/100 [00:05<00:06,  8.64trial/s, best loss: -0.651270207852194]"
     ]
    },
    {
     "name": "stderr",
     "output_type": "stream",
     "text": [
      "c:\\Users\\xiaomi\\Desktop\\model2\\venv\\Lib\\site-packages\\xgboost\\core.py:158: UserWarning: [12:11:22] WARNING: C:\\buildkite-agent\\builds\\buildkite-windows-cpu-autoscaling-group-i-06abd128ca6c1688d-1\\xgboost\\xgboost-ci-windows\\src\\learner.cc:740: \n",
      "Parameters: { \"border_count\", \"cat_features\", \"depth\", \"iterations\", \"l2_leaf_reg\", \"verbose\" } are not used.\n",
      "\n",
      "  warnings.warn(smsg, UserWarning)\n",
      "\n",
      "c:\\Users\\xiaomi\\Desktop\\model2\\venv\\Lib\\site-packages\\xgboost\\core.py:158: UserWarning: [12:11:22] WARNING: C:\\buildkite-agent\\builds\\buildkite-windows-cpu-autoscaling-group-i-06abd128ca6c1688d-1\\xgboost\\xgboost-ci-windows\\src\\learner.cc:740: \n",
      "Parameters: { \"border_count\", \"cat_features\", \"depth\", \"iterations\", \"l2_leaf_reg\", \"verbose\" } are not used.\n",
      "\n",
      "  warnings.warn(smsg, UserWarning)\n",
      "\n",
      "c:\\Users\\xiaomi\\Desktop\\model2\\venv\\Lib\\site-packages\\xgboost\\core.py:158: UserWarning: [12:11:22] WARNING: C:\\buildkite-agent\\builds\\buildkite-windows-cpu-autoscaling-group-i-06abd128ca6c1688d-1\\xgboost\\xgboost-ci-windows\\src\\learner.cc:740: \n",
      "Parameters: { \"border_count\", \"cat_features\", \"depth\", \"iterations\", \"l2_leaf_reg\", \"verbose\" } are not used.\n",
      "\n",
      "  warnings.warn(smsg, UserWarning)\n",
      "\n"
     ]
    },
    {
     "name": "stdout",
     "output_type": "stream",
     "text": [
      " 47%|████▋     | 47/100 [00:05<00:05,  9.96trial/s, best loss: -0.651270207852194]"
     ]
    },
    {
     "name": "stderr",
     "output_type": "stream",
     "text": [
      "c:\\Users\\xiaomi\\Desktop\\model2\\venv\\Lib\\site-packages\\xgboost\\core.py:158: UserWarning: [12:11:22] WARNING: C:\\buildkite-agent\\builds\\buildkite-windows-cpu-autoscaling-group-i-06abd128ca6c1688d-1\\xgboost\\xgboost-ci-windows\\src\\learner.cc:740: \n",
      "Parameters: { \"border_count\", \"cat_features\", \"depth\", \"iterations\", \"l2_leaf_reg\", \"verbose\" } are not used.\n",
      "\n",
      "  warnings.warn(smsg, UserWarning)\n",
      "\n",
      "c:\\Users\\xiaomi\\Desktop\\model2\\venv\\Lib\\site-packages\\xgboost\\core.py:158: UserWarning: [12:11:22] WARNING: C:\\buildkite-agent\\builds\\buildkite-windows-cpu-autoscaling-group-i-06abd128ca6c1688d-1\\xgboost\\xgboost-ci-windows\\src\\learner.cc:740: \n",
      "Parameters: { \"border_count\", \"cat_features\", \"depth\", \"iterations\", \"l2_leaf_reg\", \"verbose\" } are not used.\n",
      "\n",
      "  warnings.warn(smsg, UserWarning)\n",
      "\n",
      "c:\\Users\\xiaomi\\Desktop\\model2\\venv\\Lib\\site-packages\\xgboost\\core.py:158: UserWarning: [12:11:23] WARNING: C:\\buildkite-agent\\builds\\buildkite-windows-cpu-autoscaling-group-i-06abd128ca6c1688d-1\\xgboost\\xgboost-ci-windows\\src\\learner.cc:740: \n",
      "Parameters: { \"border_count\", \"cat_features\", \"depth\", \"iterations\", \"l2_leaf_reg\", \"verbose\" } are not used.\n",
      "\n",
      "  warnings.warn(smsg, UserWarning)\n",
      "\n",
      "c:\\Users\\xiaomi\\Desktop\\model2\\venv\\Lib\\site-packages\\xgboost\\core.py:158: UserWarning: [12:11:23] WARNING: C:\\buildkite-agent\\builds\\buildkite-windows-cpu-autoscaling-group-i-06abd128ca6c1688d-1\\xgboost\\xgboost-ci-windows\\src\\learner.cc:740: \n",
      "Parameters: { \"border_count\", \"cat_features\", \"depth\", \"iterations\", \"l2_leaf_reg\", \"verbose\" } are not used.\n",
      "\n",
      "  warnings.warn(smsg, UserWarning)\n",
      "\n"
     ]
    },
    {
     "name": "stdout",
     "output_type": "stream",
     "text": [
      " 50%|█████     | 50/100 [00:06<00:06,  7.61trial/s, best loss: -0.651270207852194]"
     ]
    },
    {
     "name": "stderr",
     "output_type": "stream",
     "text": [
      "c:\\Users\\xiaomi\\Desktop\\model2\\venv\\Lib\\site-packages\\xgboost\\core.py:158: UserWarning: [12:11:23] WARNING: C:\\buildkite-agent\\builds\\buildkite-windows-cpu-autoscaling-group-i-06abd128ca6c1688d-1\\xgboost\\xgboost-ci-windows\\src\\learner.cc:740: \n",
      "Parameters: { \"border_count\", \"cat_features\", \"depth\", \"iterations\", \"l2_leaf_reg\", \"verbose\" } are not used.\n",
      "\n",
      "  warnings.warn(smsg, UserWarning)\n",
      "\n",
      "c:\\Users\\xiaomi\\Desktop\\model2\\venv\\Lib\\site-packages\\xgboost\\core.py:158: UserWarning: [12:11:23] WARNING: C:\\buildkite-agent\\builds\\buildkite-windows-cpu-autoscaling-group-i-06abd128ca6c1688d-1\\xgboost\\xgboost-ci-windows\\src\\learner.cc:740: \n",
      "Parameters: { \"border_count\", \"cat_features\", \"depth\", \"iterations\", \"l2_leaf_reg\", \"verbose\" } are not used.\n",
      "\n",
      "  warnings.warn(smsg, UserWarning)\n",
      "\n",
      "c:\\Users\\xiaomi\\Desktop\\model2\\venv\\Lib\\site-packages\\xgboost\\core.py:158: UserWarning: [12:11:23] WARNING: C:\\buildkite-agent\\builds\\buildkite-windows-cpu-autoscaling-group-i-06abd128ca6c1688d-1\\xgboost\\xgboost-ci-windows\\src\\learner.cc:740: \n",
      "Parameters: { \"border_count\", \"cat_features\", \"depth\", \"iterations\", \"l2_leaf_reg\", \"verbose\" } are not used.\n",
      "\n",
      "  warnings.warn(smsg, UserWarning)\n",
      "\n"
     ]
    },
    {
     "name": "stdout",
     "output_type": "stream",
     "text": [
      " 54%|█████▍    | 54/100 [00:06<00:05,  8.73trial/s, best loss: -0.651270207852194]"
     ]
    },
    {
     "name": "stderr",
     "output_type": "stream",
     "text": [
      "c:\\Users\\xiaomi\\Desktop\\model2\\venv\\Lib\\site-packages\\xgboost\\core.py:158: UserWarning: [12:11:23] WARNING: C:\\buildkite-agent\\builds\\buildkite-windows-cpu-autoscaling-group-i-06abd128ca6c1688d-1\\xgboost\\xgboost-ci-windows\\src\\learner.cc:740: \n",
      "Parameters: { \"border_count\", \"cat_features\", \"depth\", \"iterations\", \"l2_leaf_reg\", \"verbose\" } are not used.\n",
      "\n",
      "  warnings.warn(smsg, UserWarning)\n",
      "\n",
      "c:\\Users\\xiaomi\\Desktop\\model2\\venv\\Lib\\site-packages\\xgboost\\core.py:158: UserWarning: [12:11:23] WARNING: C:\\buildkite-agent\\builds\\buildkite-windows-cpu-autoscaling-group-i-06abd128ca6c1688d-1\\xgboost\\xgboost-ci-windows\\src\\learner.cc:740: \n",
      "Parameters: { \"border_count\", \"cat_features\", \"depth\", \"iterations\", \"l2_leaf_reg\", \"verbose\" } are not used.\n",
      "\n",
      "  warnings.warn(smsg, UserWarning)\n",
      "\n"
     ]
    },
    {
     "name": "stdout",
     "output_type": "stream",
     "text": [
      " 55%|█████▌    | 55/100 [00:06<00:05,  8.93trial/s, best loss: -0.651270207852194]"
     ]
    },
    {
     "name": "stderr",
     "output_type": "stream",
     "text": [
      "c:\\Users\\xiaomi\\Desktop\\model2\\venv\\Lib\\site-packages\\xgboost\\core.py:158: UserWarning: [12:11:23] WARNING: C:\\buildkite-agent\\builds\\buildkite-windows-cpu-autoscaling-group-i-06abd128ca6c1688d-1\\xgboost\\xgboost-ci-windows\\src\\learner.cc:740: \n",
      "Parameters: { \"border_count\", \"cat_features\", \"depth\", \"iterations\", \"l2_leaf_reg\", \"verbose\" } are not used.\n",
      "\n",
      "  warnings.warn(smsg, UserWarning)\n",
      "\n"
     ]
    },
    {
     "name": "stdout",
     "output_type": "stream",
     "text": [
      " 56%|█████▌    | 56/100 [00:07<00:06,  6.61trial/s, best loss: -0.651270207852194]"
     ]
    },
    {
     "name": "stderr",
     "output_type": "stream",
     "text": [
      "c:\\Users\\xiaomi\\Desktop\\model2\\venv\\Lib\\site-packages\\xgboost\\core.py:158: UserWarning: [12:11:24] WARNING: C:\\buildkite-agent\\builds\\buildkite-windows-cpu-autoscaling-group-i-06abd128ca6c1688d-1\\xgboost\\xgboost-ci-windows\\src\\learner.cc:740: \n",
      "Parameters: { \"border_count\", \"cat_features\", \"depth\", \"iterations\", \"l2_leaf_reg\", \"verbose\" } are not used.\n",
      "\n",
      "  warnings.warn(smsg, UserWarning)\n",
      "\n",
      "c:\\Users\\xiaomi\\Desktop\\model2\\venv\\Lib\\site-packages\\xgboost\\core.py:158: UserWarning: [12:11:24] WARNING: C:\\buildkite-agent\\builds\\buildkite-windows-cpu-autoscaling-group-i-06abd128ca6c1688d-1\\xgboost\\xgboost-ci-windows\\src\\learner.cc:740: \n",
      "Parameters: { \"border_count\", \"cat_features\", \"depth\", \"iterations\", \"l2_leaf_reg\", \"verbose\" } are not used.\n",
      "\n",
      "  warnings.warn(smsg, UserWarning)\n",
      "\n"
     ]
    },
    {
     "name": "stdout",
     "output_type": "stream",
     "text": [
      " 58%|█████▊    | 58/100 [00:07<00:05,  7.43trial/s, best loss: -0.651270207852194]"
     ]
    },
    {
     "name": "stderr",
     "output_type": "stream",
     "text": [
      "c:\\Users\\xiaomi\\Desktop\\model2\\venv\\Lib\\site-packages\\xgboost\\core.py:158: UserWarning: [12:11:24] WARNING: C:\\buildkite-agent\\builds\\buildkite-windows-cpu-autoscaling-group-i-06abd128ca6c1688d-1\\xgboost\\xgboost-ci-windows\\src\\learner.cc:740: \n",
      "Parameters: { \"border_count\", \"cat_features\", \"depth\", \"iterations\", \"l2_leaf_reg\", \"verbose\" } are not used.\n",
      "\n",
      "  warnings.warn(smsg, UserWarning)\n",
      "\n",
      "c:\\Users\\xiaomi\\Desktop\\model2\\venv\\Lib\\site-packages\\xgboost\\core.py:158: UserWarning: [12:11:24] WARNING: C:\\buildkite-agent\\builds\\buildkite-windows-cpu-autoscaling-group-i-06abd128ca6c1688d-1\\xgboost\\xgboost-ci-windows\\src\\learner.cc:740: \n",
      "Parameters: { \"border_count\", \"cat_features\", \"depth\", \"iterations\", \"l2_leaf_reg\", \"verbose\" } are not used.\n",
      "\n",
      "  warnings.warn(smsg, UserWarning)\n",
      "\n"
     ]
    },
    {
     "name": "stdout",
     "output_type": "stream",
     "text": [
      " 61%|██████    | 61/100 [00:07<00:04,  8.17trial/s, best loss: -0.651270207852194]"
     ]
    },
    {
     "name": "stderr",
     "output_type": "stream",
     "text": [
      "c:\\Users\\xiaomi\\Desktop\\model2\\venv\\Lib\\site-packages\\xgboost\\core.py:158: UserWarning: [12:11:24] WARNING: C:\\buildkite-agent\\builds\\buildkite-windows-cpu-autoscaling-group-i-06abd128ca6c1688d-1\\xgboost\\xgboost-ci-windows\\src\\learner.cc:740: \n",
      "Parameters: { \"border_count\", \"cat_features\", \"depth\", \"iterations\", \"l2_leaf_reg\", \"verbose\" } are not used.\n",
      "\n",
      "  warnings.warn(smsg, UserWarning)\n",
      "\n",
      "c:\\Users\\xiaomi\\Desktop\\model2\\venv\\Lib\\site-packages\\xgboost\\core.py:158: UserWarning: [12:11:24] WARNING: C:\\buildkite-agent\\builds\\buildkite-windows-cpu-autoscaling-group-i-06abd128ca6c1688d-1\\xgboost\\xgboost-ci-windows\\src\\learner.cc:740: \n",
      "Parameters: { \"border_count\", \"cat_features\", \"depth\", \"iterations\", \"l2_leaf_reg\", \"verbose\" } are not used.\n",
      "\n",
      "  warnings.warn(smsg, UserWarning)\n",
      "\n"
     ]
    },
    {
     "name": "stdout",
     "output_type": "stream",
     "text": [
      " 63%|██████▎   | 63/100 [00:08<00:04,  9.05trial/s, best loss: -0.651270207852194]"
     ]
    },
    {
     "name": "stderr",
     "output_type": "stream",
     "text": [
      "c:\\Users\\xiaomi\\Desktop\\model2\\venv\\Lib\\site-packages\\xgboost\\core.py:158: UserWarning: [12:11:24] WARNING: C:\\buildkite-agent\\builds\\buildkite-windows-cpu-autoscaling-group-i-06abd128ca6c1688d-1\\xgboost\\xgboost-ci-windows\\src\\learner.cc:740: \n",
      "Parameters: { \"border_count\", \"cat_features\", \"depth\", \"iterations\", \"l2_leaf_reg\", \"verbose\" } are not used.\n",
      "\n",
      "  warnings.warn(smsg, UserWarning)\n",
      "\n",
      "c:\\Users\\xiaomi\\Desktop\\model2\\venv\\Lib\\site-packages\\xgboost\\core.py:158: UserWarning: [12:11:25] WARNING: C:\\buildkite-agent\\builds\\buildkite-windows-cpu-autoscaling-group-i-06abd128ca6c1688d-1\\xgboost\\xgboost-ci-windows\\src\\learner.cc:740: \n",
      "Parameters: { \"border_count\", \"cat_features\", \"depth\", \"iterations\", \"l2_leaf_reg\", \"verbose\" } are not used.\n",
      "\n",
      "  warnings.warn(smsg, UserWarning)\n",
      "\n",
      "c:\\Users\\xiaomi\\Desktop\\model2\\venv\\Lib\\site-packages\\xgboost\\core.py:158: UserWarning: [12:11:25] WARNING: C:\\buildkite-agent\\builds\\buildkite-windows-cpu-autoscaling-group-i-06abd128ca6c1688d-1\\xgboost\\xgboost-ci-windows\\src\\learner.cc:740: \n",
      "Parameters: { \"border_count\", \"cat_features\", \"depth\", \"iterations\", \"l2_leaf_reg\", \"verbose\" } are not used.\n",
      "\n",
      "  warnings.warn(smsg, UserWarning)\n",
      "\n"
     ]
    },
    {
     "name": "stdout",
     "output_type": "stream",
     "text": [
      " 65%|██████▌   | 65/100 [00:08<00:04,  7.35trial/s, best loss: -0.651270207852194]"
     ]
    },
    {
     "name": "stderr",
     "output_type": "stream",
     "text": [
      "c:\\Users\\xiaomi\\Desktop\\model2\\venv\\Lib\\site-packages\\xgboost\\core.py:158: UserWarning: [12:11:25] WARNING: C:\\buildkite-agent\\builds\\buildkite-windows-cpu-autoscaling-group-i-06abd128ca6c1688d-1\\xgboost\\xgboost-ci-windows\\src\\learner.cc:740: \n",
      "Parameters: { \"border_count\", \"cat_features\", \"depth\", \"iterations\", \"l2_leaf_reg\", \"verbose\" } are not used.\n",
      "\n",
      "  warnings.warn(smsg, UserWarning)\n",
      "\n",
      "c:\\Users\\xiaomi\\Desktop\\model2\\venv\\Lib\\site-packages\\xgboost\\core.py:158: UserWarning: [12:11:25] WARNING: C:\\buildkite-agent\\builds\\buildkite-windows-cpu-autoscaling-group-i-06abd128ca6c1688d-1\\xgboost\\xgboost-ci-windows\\src\\learner.cc:740: \n",
      "Parameters: { \"border_count\", \"cat_features\", \"depth\", \"iterations\", \"l2_leaf_reg\", \"verbose\" } are not used.\n",
      "\n",
      "  warnings.warn(smsg, UserWarning)\n",
      "\n"
     ]
    },
    {
     "name": "stdout",
     "output_type": "stream",
     "text": [
      " 67%|██████▋   | 67/100 [00:08<00:04,  7.28trial/s, best loss: -0.651270207852194]"
     ]
    },
    {
     "name": "stderr",
     "output_type": "stream",
     "text": [
      "c:\\Users\\xiaomi\\Desktop\\model2\\venv\\Lib\\site-packages\\xgboost\\core.py:158: UserWarning: [12:11:25] WARNING: C:\\buildkite-agent\\builds\\buildkite-windows-cpu-autoscaling-group-i-06abd128ca6c1688d-1\\xgboost\\xgboost-ci-windows\\src\\learner.cc:740: \n",
      "Parameters: { \"border_count\", \"cat_features\", \"depth\", \"iterations\", \"l2_leaf_reg\", \"verbose\" } are not used.\n",
      "\n",
      "  warnings.warn(smsg, UserWarning)\n",
      "\n",
      "c:\\Users\\xiaomi\\Desktop\\model2\\venv\\Lib\\site-packages\\xgboost\\core.py:158: UserWarning: [12:11:25] WARNING: C:\\buildkite-agent\\builds\\buildkite-windows-cpu-autoscaling-group-i-06abd128ca6c1688d-1\\xgboost\\xgboost-ci-windows\\src\\learner.cc:740: \n",
      "Parameters: { \"border_count\", \"cat_features\", \"depth\", \"iterations\", \"l2_leaf_reg\", \"verbose\" } are not used.\n",
      "\n",
      "  warnings.warn(smsg, UserWarning)\n",
      "\n"
     ]
    },
    {
     "name": "stdout",
     "output_type": "stream",
     "text": [
      " 70%|███████   | 70/100 [00:08<00:03,  8.54trial/s, best loss: -0.651270207852194]"
     ]
    },
    {
     "name": "stderr",
     "output_type": "stream",
     "text": [
      "c:\\Users\\xiaomi\\Desktop\\model2\\venv\\Lib\\site-packages\\xgboost\\core.py:158: UserWarning: [12:11:25] WARNING: C:\\buildkite-agent\\builds\\buildkite-windows-cpu-autoscaling-group-i-06abd128ca6c1688d-1\\xgboost\\xgboost-ci-windows\\src\\learner.cc:740: \n",
      "Parameters: { \"border_count\", \"cat_features\", \"depth\", \"iterations\", \"l2_leaf_reg\", \"verbose\" } are not used.\n",
      "\n",
      "  warnings.warn(smsg, UserWarning)\n",
      "\n",
      "c:\\Users\\xiaomi\\Desktop\\model2\\venv\\Lib\\site-packages\\xgboost\\core.py:158: UserWarning: [12:11:25] WARNING: C:\\buildkite-agent\\builds\\buildkite-windows-cpu-autoscaling-group-i-06abd128ca6c1688d-1\\xgboost\\xgboost-ci-windows\\src\\learner.cc:740: \n",
      "Parameters: { \"border_count\", \"cat_features\", \"depth\", \"iterations\", \"l2_leaf_reg\", \"verbose\" } are not used.\n",
      "\n",
      "  warnings.warn(smsg, UserWarning)\n",
      "\n"
     ]
    },
    {
     "name": "stdout",
     "output_type": "stream",
     "text": [
      " 72%|███████▏  | 72/100 [00:09<00:03,  9.32trial/s, best loss: -0.651270207852194]"
     ]
    },
    {
     "name": "stderr",
     "output_type": "stream",
     "text": [
      "c:\\Users\\xiaomi\\Desktop\\model2\\venv\\Lib\\site-packages\\xgboost\\core.py:158: UserWarning: [12:11:26] WARNING: C:\\buildkite-agent\\builds\\buildkite-windows-cpu-autoscaling-group-i-06abd128ca6c1688d-1\\xgboost\\xgboost-ci-windows\\src\\learner.cc:740: \n",
      "Parameters: { \"border_count\", \"cat_features\", \"depth\", \"iterations\", \"l2_leaf_reg\", \"verbose\" } are not used.\n",
      "\n",
      "  warnings.warn(smsg, UserWarning)\n",
      "\n",
      "c:\\Users\\xiaomi\\Desktop\\model2\\venv\\Lib\\site-packages\\xgboost\\core.py:158: UserWarning: [12:11:26] WARNING: C:\\buildkite-agent\\builds\\buildkite-windows-cpu-autoscaling-group-i-06abd128ca6c1688d-1\\xgboost\\xgboost-ci-windows\\src\\learner.cc:740: \n",
      "Parameters: { \"border_count\", \"cat_features\", \"depth\", \"iterations\", \"l2_leaf_reg\", \"verbose\" } are not used.\n",
      "\n",
      "  warnings.warn(smsg, UserWarning)\n",
      "\n"
     ]
    },
    {
     "name": "stdout",
     "output_type": "stream",
     "text": [
      " 73%|███████▎  | 73/100 [00:09<00:03,  6.88trial/s, best loss: -0.651270207852194]"
     ]
    },
    {
     "name": "stderr",
     "output_type": "stream",
     "text": [
      "c:\\Users\\xiaomi\\Desktop\\model2\\venv\\Lib\\site-packages\\xgboost\\core.py:158: UserWarning: [12:11:26] WARNING: C:\\buildkite-agent\\builds\\buildkite-windows-cpu-autoscaling-group-i-06abd128ca6c1688d-1\\xgboost\\xgboost-ci-windows\\src\\learner.cc:740: \n",
      "Parameters: { \"border_count\", \"cat_features\", \"depth\", \"iterations\", \"l2_leaf_reg\", \"verbose\" } are not used.\n",
      "\n",
      "  warnings.warn(smsg, UserWarning)\n",
      "\n",
      "c:\\Users\\xiaomi\\Desktop\\model2\\venv\\Lib\\site-packages\\xgboost\\core.py:158: UserWarning: [12:11:26] WARNING: C:\\buildkite-agent\\builds\\buildkite-windows-cpu-autoscaling-group-i-06abd128ca6c1688d-1\\xgboost\\xgboost-ci-windows\\src\\learner.cc:740: \n",
      "Parameters: { \"border_count\", \"cat_features\", \"depth\", \"iterations\", \"l2_leaf_reg\", \"verbose\" } are not used.\n",
      "\n",
      "  warnings.warn(smsg, UserWarning)\n",
      "\n"
     ]
    },
    {
     "name": "stdout",
     "output_type": "stream",
     "text": [
      " 76%|███████▌  | 76/100 [00:09<00:02,  8.14trial/s, best loss: -0.651270207852194]"
     ]
    },
    {
     "name": "stderr",
     "output_type": "stream",
     "text": [
      "c:\\Users\\xiaomi\\Desktop\\model2\\venv\\Lib\\site-packages\\xgboost\\core.py:158: UserWarning: [12:11:26] WARNING: C:\\buildkite-agent\\builds\\buildkite-windows-cpu-autoscaling-group-i-06abd128ca6c1688d-1\\xgboost\\xgboost-ci-windows\\src\\learner.cc:740: \n",
      "Parameters: { \"border_count\", \"cat_features\", \"depth\", \"iterations\", \"l2_leaf_reg\", \"verbose\" } are not used.\n",
      "\n",
      "  warnings.warn(smsg, UserWarning)\n",
      "\n",
      "c:\\Users\\xiaomi\\Desktop\\model2\\venv\\Lib\\site-packages\\xgboost\\core.py:158: UserWarning: [12:11:26] WARNING: C:\\buildkite-agent\\builds\\buildkite-windows-cpu-autoscaling-group-i-06abd128ca6c1688d-1\\xgboost\\xgboost-ci-windows\\src\\learner.cc:740: \n",
      "Parameters: { \"border_count\", \"cat_features\", \"depth\", \"iterations\", \"l2_leaf_reg\", \"verbose\" } are not used.\n",
      "\n",
      "  warnings.warn(smsg, UserWarning)\n",
      "\n"
     ]
    },
    {
     "name": "stdout",
     "output_type": "stream",
     "text": [
      " 77%|███████▋  | 77/100 [00:09<00:02,  8.57trial/s, best loss: -0.651270207852194]"
     ]
    },
    {
     "name": "stderr",
     "output_type": "stream",
     "text": [
      "c:\\Users\\xiaomi\\Desktop\\model2\\venv\\Lib\\site-packages\\xgboost\\core.py:158: UserWarning: [12:11:26] WARNING: C:\\buildkite-agent\\builds\\buildkite-windows-cpu-autoscaling-group-i-06abd128ca6c1688d-1\\xgboost\\xgboost-ci-windows\\src\\learner.cc:740: \n",
      "Parameters: { \"border_count\", \"cat_features\", \"depth\", \"iterations\", \"l2_leaf_reg\", \"verbose\" } are not used.\n",
      "\n",
      "  warnings.warn(smsg, UserWarning)\n",
      "\n",
      "c:\\Users\\xiaomi\\Desktop\\model2\\venv\\Lib\\site-packages\\xgboost\\core.py:158: UserWarning: [12:11:26] WARNING: C:\\buildkite-agent\\builds\\buildkite-windows-cpu-autoscaling-group-i-06abd128ca6c1688d-1\\xgboost\\xgboost-ci-windows\\src\\learner.cc:740: \n",
      "Parameters: { \"border_count\", \"cat_features\", \"depth\", \"iterations\", \"l2_leaf_reg\", \"verbose\" } are not used.\n",
      "\n",
      "  warnings.warn(smsg, UserWarning)\n",
      "\n",
      "c:\\Users\\xiaomi\\Desktop\\model2\\venv\\Lib\\site-packages\\xgboost\\core.py:158: UserWarning: [12:11:27] WARNING: C:\\buildkite-agent\\builds\\buildkite-windows-cpu-autoscaling-group-i-06abd128ca6c1688d-1\\xgboost\\xgboost-ci-windows\\src\\learner.cc:740: \n",
      "Parameters: { \"border_count\", \"cat_features\", \"depth\", \"iterations\", \"l2_leaf_reg\", \"verbose\" } are not used.\n",
      "\n",
      "  warnings.warn(smsg, UserWarning)\n",
      "\n"
     ]
    },
    {
     "name": "stdout",
     "output_type": "stream",
     "text": [
      " 80%|████████  | 80/100 [00:10<00:02,  9.58trial/s, best loss: -0.651270207852194]"
     ]
    },
    {
     "name": "stderr",
     "output_type": "stream",
     "text": [
      "c:\\Users\\xiaomi\\Desktop\\model2\\venv\\Lib\\site-packages\\xgboost\\core.py:158: UserWarning: [12:11:27] WARNING: C:\\buildkite-agent\\builds\\buildkite-windows-cpu-autoscaling-group-i-06abd128ca6c1688d-1\\xgboost\\xgboost-ci-windows\\src\\learner.cc:740: \n",
      "Parameters: { \"border_count\", \"cat_features\", \"depth\", \"iterations\", \"l2_leaf_reg\", \"verbose\" } are not used.\n",
      "\n",
      "  warnings.warn(smsg, UserWarning)\n",
      "\n",
      "c:\\Users\\xiaomi\\Desktop\\model2\\venv\\Lib\\site-packages\\xgboost\\core.py:158: UserWarning: [12:11:27] WARNING: C:\\buildkite-agent\\builds\\buildkite-windows-cpu-autoscaling-group-i-06abd128ca6c1688d-1\\xgboost\\xgboost-ci-windows\\src\\learner.cc:740: \n",
      "Parameters: { \"border_count\", \"cat_features\", \"depth\", \"iterations\", \"l2_leaf_reg\", \"verbose\" } are not used.\n",
      "\n",
      "  warnings.warn(smsg, UserWarning)\n",
      "\n"
     ]
    },
    {
     "name": "stdout",
     "output_type": "stream",
     "text": [
      " 82%|████████▏ | 82/100 [00:10<00:02,  7.13trial/s, best loss: -0.651270207852194]"
     ]
    },
    {
     "name": "stderr",
     "output_type": "stream",
     "text": [
      "c:\\Users\\xiaomi\\Desktop\\model2\\venv\\Lib\\site-packages\\xgboost\\core.py:158: UserWarning: [12:11:27] WARNING: C:\\buildkite-agent\\builds\\buildkite-windows-cpu-autoscaling-group-i-06abd128ca6c1688d-1\\xgboost\\xgboost-ci-windows\\src\\learner.cc:740: \n",
      "Parameters: { \"border_count\", \"cat_features\", \"depth\", \"iterations\", \"l2_leaf_reg\", \"verbose\" } are not used.\n",
      "\n",
      "  warnings.warn(smsg, UserWarning)\n",
      "\n",
      "c:\\Users\\xiaomi\\Desktop\\model2\\venv\\Lib\\site-packages\\xgboost\\core.py:158: UserWarning: [12:11:27] WARNING: C:\\buildkite-agent\\builds\\buildkite-windows-cpu-autoscaling-group-i-06abd128ca6c1688d-1\\xgboost\\xgboost-ci-windows\\src\\learner.cc:740: \n",
      "Parameters: { \"border_count\", \"cat_features\", \"depth\", \"iterations\", \"l2_leaf_reg\", \"verbose\" } are not used.\n",
      "\n",
      "  warnings.warn(smsg, UserWarning)\n",
      "\n"
     ]
    },
    {
     "name": "stdout",
     "output_type": "stream",
     "text": [
      " 85%|████████▌ | 85/100 [00:10<00:01,  7.72trial/s, best loss: -0.651270207852194]"
     ]
    },
    {
     "name": "stderr",
     "output_type": "stream",
     "text": [
      "c:\\Users\\xiaomi\\Desktop\\model2\\venv\\Lib\\site-packages\\xgboost\\core.py:158: UserWarning: [12:11:27] WARNING: C:\\buildkite-agent\\builds\\buildkite-windows-cpu-autoscaling-group-i-06abd128ca6c1688d-1\\xgboost\\xgboost-ci-windows\\src\\learner.cc:740: \n",
      "Parameters: { \"border_count\", \"cat_features\", \"depth\", \"iterations\", \"l2_leaf_reg\", \"verbose\" } are not used.\n",
      "\n",
      "  warnings.warn(smsg, UserWarning)\n",
      "\n",
      "c:\\Users\\xiaomi\\Desktop\\model2\\venv\\Lib\\site-packages\\xgboost\\core.py:158: UserWarning: [12:11:27] WARNING: C:\\buildkite-agent\\builds\\buildkite-windows-cpu-autoscaling-group-i-06abd128ca6c1688d-1\\xgboost\\xgboost-ci-windows\\src\\learner.cc:740: \n",
      "Parameters: { \"border_count\", \"cat_features\", \"depth\", \"iterations\", \"l2_leaf_reg\", \"verbose\" } are not used.\n",
      "\n",
      "  warnings.warn(smsg, UserWarning)\n",
      "\n"
     ]
    },
    {
     "name": "stdout",
     "output_type": "stream",
     "text": [
      " 87%|████████▋ | 87/100 [00:11<00:01,  8.47trial/s, best loss: -0.651270207852194]"
     ]
    },
    {
     "name": "stderr",
     "output_type": "stream",
     "text": [
      "c:\\Users\\xiaomi\\Desktop\\model2\\venv\\Lib\\site-packages\\xgboost\\core.py:158: UserWarning: [12:11:27] WARNING: C:\\buildkite-agent\\builds\\buildkite-windows-cpu-autoscaling-group-i-06abd128ca6c1688d-1\\xgboost\\xgboost-ci-windows\\src\\learner.cc:740: \n",
      "Parameters: { \"border_count\", \"cat_features\", \"depth\", \"iterations\", \"l2_leaf_reg\", \"verbose\" } are not used.\n",
      "\n",
      "  warnings.warn(smsg, UserWarning)\n",
      "\n",
      "c:\\Users\\xiaomi\\Desktop\\model2\\venv\\Lib\\site-packages\\xgboost\\core.py:158: UserWarning: [12:11:28] WARNING: C:\\buildkite-agent\\builds\\buildkite-windows-cpu-autoscaling-group-i-06abd128ca6c1688d-1\\xgboost\\xgboost-ci-windows\\src\\learner.cc:740: \n",
      "Parameters: { \"border_count\", \"cat_features\", \"depth\", \"iterations\", \"l2_leaf_reg\", \"verbose\" } are not used.\n",
      "\n",
      "  warnings.warn(smsg, UserWarning)\n",
      "\n"
     ]
    },
    {
     "name": "stdout",
     "output_type": "stream",
     "text": [
      " 89%|████████▉ | 89/100 [00:11<00:01,  8.82trial/s, best loss: -0.651270207852194]"
     ]
    },
    {
     "name": "stderr",
     "output_type": "stream",
     "text": [
      "c:\\Users\\xiaomi\\Desktop\\model2\\venv\\Lib\\site-packages\\xgboost\\core.py:158: UserWarning: [12:11:28] WARNING: C:\\buildkite-agent\\builds\\buildkite-windows-cpu-autoscaling-group-i-06abd128ca6c1688d-1\\xgboost\\xgboost-ci-windows\\src\\learner.cc:740: \n",
      "Parameters: { \"border_count\", \"cat_features\", \"depth\", \"iterations\", \"l2_leaf_reg\", \"verbose\" } are not used.\n",
      "\n",
      "  warnings.warn(smsg, UserWarning)\n",
      "\n",
      "c:\\Users\\xiaomi\\Desktop\\model2\\venv\\Lib\\site-packages\\xgboost\\core.py:158: UserWarning: [12:11:28] WARNING: C:\\buildkite-agent\\builds\\buildkite-windows-cpu-autoscaling-group-i-06abd128ca6c1688d-1\\xgboost\\xgboost-ci-windows\\src\\learner.cc:740: \n",
      "Parameters: { \"border_count\", \"cat_features\", \"depth\", \"iterations\", \"l2_leaf_reg\", \"verbose\" } are not used.\n",
      "\n",
      "  warnings.warn(smsg, UserWarning)\n",
      "\n"
     ]
    },
    {
     "name": "stdout",
     "output_type": "stream",
     "text": [
      " 90%|█████████ | 90/100 [00:11<00:01,  5.96trial/s, best loss: -0.651270207852194]"
     ]
    },
    {
     "name": "stderr",
     "output_type": "stream",
     "text": [
      "c:\\Users\\xiaomi\\Desktop\\model2\\venv\\Lib\\site-packages\\xgboost\\core.py:158: UserWarning: [12:11:28] WARNING: C:\\buildkite-agent\\builds\\buildkite-windows-cpu-autoscaling-group-i-06abd128ca6c1688d-1\\xgboost\\xgboost-ci-windows\\src\\learner.cc:740: \n",
      "Parameters: { \"border_count\", \"cat_features\", \"depth\", \"iterations\", \"l2_leaf_reg\", \"verbose\" } are not used.\n",
      "\n",
      "  warnings.warn(smsg, UserWarning)\n",
      "\n",
      "c:\\Users\\xiaomi\\Desktop\\model2\\venv\\Lib\\site-packages\\xgboost\\core.py:158: UserWarning: [12:11:28] WARNING: C:\\buildkite-agent\\builds\\buildkite-windows-cpu-autoscaling-group-i-06abd128ca6c1688d-1\\xgboost\\xgboost-ci-windows\\src\\learner.cc:740: \n",
      "Parameters: { \"border_count\", \"cat_features\", \"depth\", \"iterations\", \"l2_leaf_reg\", \"verbose\" } are not used.\n",
      "\n",
      "  warnings.warn(smsg, UserWarning)\n",
      "\n"
     ]
    },
    {
     "name": "stdout",
     "output_type": "stream",
     "text": [
      " 92%|█████████▏| 92/100 [00:11<00:01,  7.15trial/s, best loss: -0.651270207852194]"
     ]
    },
    {
     "name": "stderr",
     "output_type": "stream",
     "text": [
      "c:\\Users\\xiaomi\\Desktop\\model2\\venv\\Lib\\site-packages\\xgboost\\core.py:158: UserWarning: [12:11:28] WARNING: C:\\buildkite-agent\\builds\\buildkite-windows-cpu-autoscaling-group-i-06abd128ca6c1688d-1\\xgboost\\xgboost-ci-windows\\src\\learner.cc:740: \n",
      "Parameters: { \"border_count\", \"cat_features\", \"depth\", \"iterations\", \"l2_leaf_reg\", \"verbose\" } are not used.\n",
      "\n",
      "  warnings.warn(smsg, UserWarning)\n",
      "\n",
      "c:\\Users\\xiaomi\\Desktop\\model2\\venv\\Lib\\site-packages\\xgboost\\core.py:158: UserWarning: [12:11:28] WARNING: C:\\buildkite-agent\\builds\\buildkite-windows-cpu-autoscaling-group-i-06abd128ca6c1688d-1\\xgboost\\xgboost-ci-windows\\src\\learner.cc:740: \n",
      "Parameters: { \"border_count\", \"cat_features\", \"depth\", \"iterations\", \"l2_leaf_reg\", \"verbose\" } are not used.\n",
      "\n",
      "  warnings.warn(smsg, UserWarning)\n",
      "\n",
      "c:\\Users\\xiaomi\\Desktop\\model2\\venv\\Lib\\site-packages\\xgboost\\core.py:158: UserWarning: [12:11:29] WARNING: C:\\buildkite-agent\\builds\\buildkite-windows-cpu-autoscaling-group-i-06abd128ca6c1688d-1\\xgboost\\xgboost-ci-windows\\src\\learner.cc:740: \n",
      "Parameters: { \"border_count\", \"cat_features\", \"depth\", \"iterations\", \"l2_leaf_reg\", \"verbose\" } are not used.\n",
      "\n",
      "  warnings.warn(smsg, UserWarning)\n",
      "\n"
     ]
    },
    {
     "name": "stdout",
     "output_type": "stream",
     "text": [
      " 96%|█████████▌| 96/100 [00:12<00:00,  8.98trial/s, best loss: -0.651270207852194]"
     ]
    },
    {
     "name": "stderr",
     "output_type": "stream",
     "text": [
      "c:\\Users\\xiaomi\\Desktop\\model2\\venv\\Lib\\site-packages\\xgboost\\core.py:158: UserWarning: [12:11:29] WARNING: C:\\buildkite-agent\\builds\\buildkite-windows-cpu-autoscaling-group-i-06abd128ca6c1688d-1\\xgboost\\xgboost-ci-windows\\src\\learner.cc:740: \n",
      "Parameters: { \"border_count\", \"cat_features\", \"depth\", \"iterations\", \"l2_leaf_reg\", \"verbose\" } are not used.\n",
      "\n",
      "  warnings.warn(smsg, UserWarning)\n",
      "\n",
      "c:\\Users\\xiaomi\\Desktop\\model2\\venv\\Lib\\site-packages\\xgboost\\core.py:158: UserWarning: [12:11:29] WARNING: C:\\buildkite-agent\\builds\\buildkite-windows-cpu-autoscaling-group-i-06abd128ca6c1688d-1\\xgboost\\xgboost-ci-windows\\src\\learner.cc:740: \n",
      "Parameters: { \"border_count\", \"cat_features\", \"depth\", \"iterations\", \"l2_leaf_reg\", \"verbose\" } are not used.\n",
      "\n",
      "  warnings.warn(smsg, UserWarning)\n",
      "\n"
     ]
    },
    {
     "name": "stdout",
     "output_type": "stream",
     "text": [
      " 98%|█████████▊| 98/100 [00:12<00:00,  9.08trial/s, best loss: -0.651270207852194]"
     ]
    },
    {
     "name": "stderr",
     "output_type": "stream",
     "text": [
      "c:\\Users\\xiaomi\\Desktop\\model2\\venv\\Lib\\site-packages\\xgboost\\core.py:158: UserWarning: [12:11:29] WARNING: C:\\buildkite-agent\\builds\\buildkite-windows-cpu-autoscaling-group-i-06abd128ca6c1688d-1\\xgboost\\xgboost-ci-windows\\src\\learner.cc:740: \n",
      "Parameters: { \"border_count\", \"cat_features\", \"depth\", \"iterations\", \"l2_leaf_reg\", \"verbose\" } are not used.\n",
      "\n",
      "  warnings.warn(smsg, UserWarning)\n",
      "\n",
      "c:\\Users\\xiaomi\\Desktop\\model2\\venv\\Lib\\site-packages\\xgboost\\core.py:158: UserWarning: [12:11:29] WARNING: C:\\buildkite-agent\\builds\\buildkite-windows-cpu-autoscaling-group-i-06abd128ca6c1688d-1\\xgboost\\xgboost-ci-windows\\src\\learner.cc:740: \n",
      "Parameters: { \"border_count\", \"cat_features\", \"depth\", \"iterations\", \"l2_leaf_reg\", \"verbose\" } are not used.\n",
      "\n",
      "  warnings.warn(smsg, UserWarning)\n",
      "\n"
     ]
    },
    {
     "name": "stdout",
     "output_type": "stream",
     "text": [
      " 99%|█████████▉| 99/100 [00:12<00:00,  6.32trial/s, best loss: -0.651270207852194]"
     ]
    },
    {
     "name": "stderr",
     "output_type": "stream",
     "text": [
      "c:\\Users\\xiaomi\\Desktop\\model2\\venv\\Lib\\site-packages\\xgboost\\core.py:158: UserWarning: [12:11:29] WARNING: C:\\buildkite-agent\\builds\\buildkite-windows-cpu-autoscaling-group-i-06abd128ca6c1688d-1\\xgboost\\xgboost-ci-windows\\src\\learner.cc:740: \n",
      "Parameters: { \"border_count\", \"cat_features\", \"depth\", \"iterations\", \"l2_leaf_reg\", \"verbose\" } are not used.\n",
      "\n",
      "  warnings.warn(smsg, UserWarning)\n",
      "\n",
      "c:\\Users\\xiaomi\\Desktop\\model2\\venv\\Lib\\site-packages\\xgboost\\core.py:158: UserWarning: [12:11:29] WARNING: C:\\buildkite-agent\\builds\\buildkite-windows-cpu-autoscaling-group-i-06abd128ca6c1688d-1\\xgboost\\xgboost-ci-windows\\src\\learner.cc:740: \n",
      "Parameters: { \"border_count\", \"cat_features\", \"depth\", \"iterations\", \"l2_leaf_reg\", \"verbose\" } are not used.\n",
      "\n",
      "  warnings.warn(smsg, UserWarning)\n",
      "\n"
     ]
    },
    {
     "name": "stdout",
     "output_type": "stream",
     "text": [
      "100%|██████████| 100/100 [00:12<00:00,  7.76trial/s, best loss: -0.651270207852194]\n",
      "Best parameters: {'border_count': np.int64(147), 'depth': np.int64(4), 'iterations': np.int64(10), 'l2_leaf_reg': np.float64(6.837205168985412), 'learning_rate': np.float64(0.013748121731017806)}\n"
     ]
    },
    {
     "name": "stderr",
     "output_type": "stream",
     "text": [
      "c:\\Users\\xiaomi\\Desktop\\model2\\venv\\Lib\\site-packages\\xgboost\\core.py:158: UserWarning: [12:11:29] WARNING: C:\\buildkite-agent\\builds\\buildkite-windows-cpu-autoscaling-group-i-06abd128ca6c1688d-1\\xgboost\\xgboost-ci-windows\\src\\learner.cc:740: \n",
      "Parameters: { \"border_count\", \"cat_features\", \"depth\", \"iterations\", \"l2_leaf_reg\" } are not used.\n",
      "\n",
      "  warnings.warn(smsg, UserWarning)\n",
      "c:\\Users\\xiaomi\\Desktop\\model2\\venv\\Lib\\site-packages\\xgboost\\core.py:158: UserWarning: [12:11:30] WARNING: C:\\buildkite-agent\\builds\\buildkite-windows-cpu-autoscaling-group-i-06abd128ca6c1688d-1\\xgboost\\xgboost-ci-windows\\src\\c_api\\c_api.cc:1374: Saving model in the UBJSON format as default.  You can use file extension: `json`, `ubj` or `deprecated` to choose between formats.\n",
      "  warnings.warn(smsg, UserWarning)\n"
     ]
    }
   ],
   "source": [
    "\n",
    "\n",
    "def load_and_preprocess_data(file_path):\n",
    "\n",
    "    data = pd.read_csv(file_path, delimiter=';')\n",
    "\n",
    "    x = data.drop(columns=['CLIENT_ID', 'Target'])\n",
    "    y = data['Target']\n",
    "\n",
    "    cat_features = ['SEX', 'CHILD_FLAG', 'REALTY_FLAG', 'ACCOUNTS_FLAG', 'E_MAIL_FLAG', 'DCI', 'FOREIGN_PASSPORT_FLAG', 'EDUCATION']\n",
    "    return x, y, cat_features\n",
    "\n",
    "def objective(params):\n",
    "    clf = XGBClassifier(**params, cat_features=cat_features, verbose=0)\n",
    "    clf.fit(x_train, y_train)\n",
    "    loss = -clf.score(x_test, y_test)\n",
    "    return {'loss': loss, 'status': STATUS_OK}\n",
    "\n",
    "if __name__ == \"__main__\":\n",
    "    c, y, cat_features = load_and_preprocess_data('appl_score_sample.csv')\n",
    "    x_train, x_test, y_train, y_test = train_test_split(x, y, test_size=0.2, random_state=42)\n",
    "\n",
    "    param_space = {\n",
    "        'iterations': hp.choice('iterations', range(50, 500)),\n",
    "        'depth': hp.choice('depth', range(3, 10)),\n",
    "        'learning_rate': hp.uniform('learning_rate', 0.01, 0.3),\n",
    "        'l2_leaf_reg': hp.uniform('l2_leaf_reg', 1, 10),\n",
    "        'border_count': hp.choice('border_count', range(32, 255)),\n",
    "    }\n",
    "\n",
    "\n",
    "    trials = Trials()\n",
    "    best_params = fmin(\n",
    "        fn=objective,\n",
    "        space=param_space,\n",
    "        algo=tpe.suggest,\n",
    "        max_evals=100,\n",
    "        trials=trials\n",
    "    )\n",
    "\n",
    "    print(f\"Best parameters: {best_params}\")\n",
    "\n",
    "    best_params['iterations'] = range(50, 500)[best_params['iterations']]\n",
    "    best_params['depth'] = range(3, 10)[best_params['depth']]\n",
    "    best_params['border_count'] = range(32, 255)[best_params['border_count']]\n",
    "\n",
    "    final_model = XGBClassifier(**best_params, cat_features=cat_features)\n",
    "    final_model.fit(x_train, y_train)\n",
    "\n",
    "    final_model.save_model('catboost_model_v1.cbm')\n"
   ]
  }
 ],
 "metadata": {
  "kernelspec": {
   "display_name": "venv",
   "language": "python",
   "name": "python3"
  },
  "language_info": {
   "codemirror_mode": {
    "name": "ipython",
    "version": 3
   },
   "file_extension": ".py",
   "mimetype": "text/x-python",
   "name": "python",
   "nbconvert_exporter": "python",
   "pygments_lexer": "ipython3",
   "version": "3.12.4"
  }
 },
 "nbformat": 4,
 "nbformat_minor": 2
}
